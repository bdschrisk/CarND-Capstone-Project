{
 "cells": [
  {
   "cell_type": "markdown",
   "metadata": {},
   "source": [
    "# Traffic Light Classifier\n",
    "**In this notebook, a deep learning approach is used for the purposes of detecting traffic lights and their corresponding state representation (i.e. Red, Green, Yellow).**"
   ]
  },
  {
   "cell_type": "code",
   "execution_count": 1,
   "metadata": {
    "collapsed": true
   },
   "outputs": [],
   "source": [
    "# Dependencies\n",
    "# Load pickled data\n",
    "import pickle\n",
    "import os\n",
    "import numpy as np\n",
    "import glob\n",
    "import matplotlib.pyplot as plt\n",
    "\n",
    "from math import *\n",
    "\n",
    "%matplotlib inline\n",
    "plt.style.use('ggplot')"
   ]
  },
  {
   "cell_type": "markdown",
   "metadata": {},
   "source": [
    "*Define the training and test paths...*"
   ]
  },
  {
   "cell_type": "code",
   "execution_count": 2,
   "metadata": {
    "collapsed": true
   },
   "outputs": [],
   "source": [
    "import model.modelconfig as config\n",
    "\n",
    "# Define training data paths\n",
    "training_path = \"./data2/train/images\"\n",
    "test_path = \"./data2/test/images\"\n",
    "\n",
    "model_path = \"./model/deepnet-v2/\"\n",
    "\n",
    "if not os.path.exists(model_path):\n",
    "    os.mkdir(model_path)"
   ]
  },
  {
   "cell_type": "code",
   "execution_count": 3,
   "metadata": {},
   "outputs": [
    {
     "name": "stdout",
     "output_type": "stream",
     "text": [
      "Number of training samples: 853\n",
      "Number of test samples: 349\n"
     ]
    }
   ],
   "source": [
    "# Extract number of samples\n",
    "\n",
    "def get_samples(path, patterns = (\"*.png\", \"*.jpg\")):\n",
    "    paths = []\n",
    "    for key in list(config.labels.keys()):\n",
    "        dir = os.path.join(path, key)\n",
    "        for pattern in patterns:\n",
    "            paths += glob.glob(os.path.join(dir, pattern))\n",
    "    return paths\n",
    "\n",
    "train_samples = get_samples(training_path)\n",
    "test_samples = get_samples(test_path)\n",
    "\n",
    "print(\"Number of training samples: {}\".format(len(train_samples)))\n",
    "print(\"Number of test samples: {}\".format(len(test_samples)))"
   ]
  },
  {
   "cell_type": "code",
   "execution_count": 4,
   "metadata": {
    "collapsed": true
   },
   "outputs": [],
   "source": [
    "# Uncomment to disable GPU acceleration\n",
    "#os.environ['CUDA_VISIBLE_DEVICES'] = '-1'"
   ]
  },
  {
   "cell_type": "code",
   "execution_count": 5,
   "metadata": {},
   "outputs": [
    {
     "name": "stderr",
     "output_type": "stream",
     "text": [
      "Using TensorFlow backend.\n"
     ]
    },
    {
     "name": "stdout",
     "output_type": "stream",
     "text": [
      "Keras version: 2.0.8\n",
      "TensorFlow version: 1.0.0\n",
      "Channels: channels_last\n",
      "No GPU found. Using CPU...\n"
     ]
    }
   ],
   "source": [
    "import keras;\n",
    "import tensorflow as tf\n",
    "import keras.backend as K\n",
    "\n",
    "# Check keras and tensorflow versions\n",
    "print(\"Keras version: {}\".format(keras.__version__))\n",
    "print(\"TensorFlow version: {}\".format(tf.__version__))\n",
    "print(\"Channels: {}\".format(K.image_data_format()))\n",
    "\n",
    "# Check for a GPU\n",
    "if not tf.test.gpu_device_name():\n",
    "    print('No GPU found. Using CPU...')\n",
    "else:\n",
    "    print('Default GPU Device: {}'.format(tf.test.gpu_device_name()))"
   ]
  },
  {
   "cell_type": "markdown",
   "metadata": {},
   "source": [
    "### SqueezeNet model"
   ]
  },
  {
   "cell_type": "code",
   "execution_count": 6,
   "metadata": {},
   "outputs": [
    {
     "name": "stdout",
     "output_type": "stream",
     "text": [
      "Class labels: \n",
      "[0, 8, 2, 4, 1]\n"
     ]
    }
   ],
   "source": [
    "labels = list(config.labels.keys())\n",
    "class_labels = [config.labels[k] for k in labels]\n",
    "print(\"Class labels: \\n{}\".format(class_labels))"
   ]
  },
  {
   "cell_type": "code",
   "execution_count": 7,
   "metadata": {},
   "outputs": [],
   "source": [
    "# Model params\n",
    "output_size = len(class_labels)\n",
    "image_size = (None, None, 3)\n",
    "\n",
    "dropout = 0.2\n",
    "weight_decay = 1e-4\n",
    "\n",
    "# Build model\n",
    "from model.DeepNet2 import DeepNet\n",
    "\n",
    "model = DeepNet(output_size, image_size, dropout, weight_decay)"
   ]
  },
  {
   "cell_type": "markdown",
   "metadata": {},
   "source": [
    "#### Define Optimiser for Training"
   ]
  },
  {
   "cell_type": "code",
   "execution_count": 8,
   "metadata": {},
   "outputs": [
    {
     "name": "stdout",
     "output_type": "stream",
     "text": [
      "\n",
      "## Model ##\n",
      "____________________________________________________________________________________________________\n",
      "Layer (type)                     Output Shape          Param #     Connected to                     \n",
      "====================================================================================================\n",
      "input_1 (InputLayer)             (None, None, None, 3) 0                                            \n",
      "____________________________________________________________________________________________________\n",
      "normalizer_1 (Normalizer)        (None, None, None, 3) 0           input_1[0][0]                    \n",
      "____________________________________________________________________________________________________\n",
      "conv2d_1 (Conv2D)                (None, None, None, 64 4864        normalizer_1[0][0]               \n",
      "____________________________________________________________________________________________________\n",
      "average_pooling2d_1 (AveragePool (None, None, None, 64 0           conv2d_1[0][0]                   \n",
      "____________________________________________________________________________________________________\n",
      "activation_1 (Activation)        (None, None, None, 64 0           average_pooling2d_1[0][0]        \n",
      "____________________________________________________________________________________________________\n",
      "conv2d_2 (Conv2D)                (None, None, None, 32 18464       activation_1[0][0]               \n",
      "____________________________________________________________________________________________________\n",
      "average_pooling2d_2 (AveragePool (None, None, None, 32 0           conv2d_2[0][0]                   \n",
      "____________________________________________________________________________________________________\n",
      "activation_2 (Activation)        (None, None, None, 32 0           average_pooling2d_2[0][0]        \n",
      "____________________________________________________________________________________________________\n",
      "conv2d_3 (Conv2D)                (None, None, None, 16 2064        activation_2[0][0]               \n",
      "____________________________________________________________________________________________________\n",
      "average_pooling2d_3 (AveragePool (None, None, None, 16 0           conv2d_3[0][0]                   \n",
      "____________________________________________________________________________________________________\n",
      "activation_3 (Activation)        (None, None, None, 16 0           average_pooling2d_3[0][0]        \n",
      "____________________________________________________________________________________________________\n",
      "conv2d_4 (Conv2D)                (None, None, None, 8) 520         activation_3[0][0]               \n",
      "____________________________________________________________________________________________________\n",
      "average_pooling2d_4 (AveragePool (None, None, None, 8) 0           conv2d_4[0][0]                   \n",
      "____________________________________________________________________________________________________\n",
      "activation_4 (Activation)        (None, None, None, 8) 0           average_pooling2d_4[0][0]        \n",
      "____________________________________________________________________________________________________\n",
      "conv2d_5 (Conv2D)                (None, None, None, 8) 72          activation_4[0][0]               \n",
      "____________________________________________________________________________________________________\n",
      "average_pooling2d_5 (AveragePool (None, None, None, 8) 0           conv2d_5[0][0]                   \n",
      "____________________________________________________________________________________________________\n",
      "activation_5 (Activation)        (None, None, None, 8) 0           average_pooling2d_5[0][0]        \n",
      "____________________________________________________________________________________________________\n",
      "average_pooling2d_6 (AveragePool (None, None, None, 8) 0           activation_5[0][0]               \n",
      "____________________________________________________________________________________________________\n",
      "global_average_pooling2d_1 (Glob (None, 8)             0           average_pooling2d_6[0][0]        \n",
      "____________________________________________________________________________________________________\n",
      "dense_1 (Dense)                  (None, 128)           1152        global_average_pooling2d_1[0][0] \n",
      "____________________________________________________________________________________________________\n",
      "dense_3 (Dense)                  (None, 128)           1152        global_average_pooling2d_1[0][0] \n",
      "____________________________________________________________________________________________________\n",
      "dense_5 (Dense)                  (None, 128)           1152        global_average_pooling2d_1[0][0] \n",
      "____________________________________________________________________________________________________\n",
      "dense_7 (Dense)                  (None, 128)           1152        global_average_pooling2d_1[0][0] \n",
      "____________________________________________________________________________________________________\n",
      "dense_9 (Dense)                  (None, 128)           1152        global_average_pooling2d_1[0][0] \n",
      "____________________________________________________________________________________________________\n",
      "p_re_lu_1 (PReLU)                (None, 128)           128         dense_1[0][0]                    \n",
      "____________________________________________________________________________________________________\n",
      "p_re_lu_2 (PReLU)                (None, 128)           128         dense_3[0][0]                    \n",
      "____________________________________________________________________________________________________\n",
      "p_re_lu_3 (PReLU)                (None, 128)           128         dense_5[0][0]                    \n",
      "____________________________________________________________________________________________________\n",
      "p_re_lu_4 (PReLU)                (None, 128)           128         dense_7[0][0]                    \n",
      "____________________________________________________________________________________________________\n",
      "p_re_lu_5 (PReLU)                (None, 128)           128         dense_9[0][0]                    \n",
      "____________________________________________________________________________________________________\n",
      "dropout_1 (Dropout)              (None, 128)           0           p_re_lu_1[0][0]                  \n",
      "____________________________________________________________________________________________________\n",
      "dropout_2 (Dropout)              (None, 128)           0           p_re_lu_2[0][0]                  \n",
      "____________________________________________________________________________________________________\n",
      "dropout_3 (Dropout)              (None, 128)           0           p_re_lu_3[0][0]                  \n",
      "____________________________________________________________________________________________________\n",
      "dropout_4 (Dropout)              (None, 128)           0           p_re_lu_4[0][0]                  \n",
      "____________________________________________________________________________________________________\n",
      "dropout_5 (Dropout)              (None, 128)           0           p_re_lu_5[0][0]                  \n",
      "____________________________________________________________________________________________________\n",
      "dense_2 (Dense)                  (None, 1)             129         dropout_1[0][0]                  \n",
      "____________________________________________________________________________________________________\n",
      "dense_4 (Dense)                  (None, 1)             129         dropout_2[0][0]                  \n",
      "____________________________________________________________________________________________________\n",
      "dense_6 (Dense)                  (None, 1)             129         dropout_3[0][0]                  \n",
      "____________________________________________________________________________________________________\n",
      "dense_8 (Dense)                  (None, 1)             129         dropout_4[0][0]                  \n",
      "____________________________________________________________________________________________________\n",
      "dense_10 (Dense)                 (None, 1)             129         dropout_5[0][0]                  \n",
      "____________________________________________________________________________________________________\n",
      "concatenate_1 (Concatenate)      (None, 5)             0           dense_2[0][0]                    \n",
      "                                                                   dense_4[0][0]                    \n",
      "                                                                   dense_6[0][0]                    \n",
      "                                                                   dense_8[0][0]                    \n",
      "                                                                   dense_10[0][0]                   \n",
      "____________________________________________________________________________________________________\n",
      "dense_11 (Dense)                 (None, 256)           1536        concatenate_1[0][0]              \n",
      "____________________________________________________________________________________________________\n",
      "p_re_lu_6 (PReLU)                (None, 256)           256         dense_11[0][0]                   \n",
      "____________________________________________________________________________________________________\n",
      "dropout_6 (Dropout)              (None, 256)           0           p_re_lu_6[0][0]                  \n",
      "____________________________________________________________________________________________________\n",
      "dense_12 (Dense)                 (None, 5)             1285        dropout_6[0][0]                  \n",
      "====================================================================================================\n",
      "Total params: 36,106\n",
      "Trainable params: 36,106\n",
      "Non-trainable params: 0\n",
      "____________________________________________________________________________________________________\n",
      "None\n"
     ]
    }
   ],
   "source": [
    "# Optimiser params\n",
    "optimiser = \"Adam\"\n",
    "loss = \"categorical_crossentropy\"\n",
    "metrics = [\"categorical_accuracy\", \"top_k_categorical_accuracy\"]\n",
    "\n",
    "# Compile model\n",
    "model.compile(optimiser, loss, metrics=metrics, loss_weights=None, sample_weight_mode=None)\n",
    "\n",
    "print(\"\\n## Model ##\")\n",
    "print(model.summary())"
   ]
  },
  {
   "cell_type": "code",
   "execution_count": 9,
   "metadata": {},
   "outputs": [
    {
     "name": "stdout",
     "output_type": "stream",
     "text": [
      "Steps per epoch (train): 26\n",
      "Steps per epoch (test): 10\n"
     ]
    }
   ],
   "source": [
    "# Train on Bosch dataset\n",
    "### Training parameters ###\n",
    "noise = 0.0\n",
    "batch_size = 32\n",
    "max_epochs = 40\n",
    "\n",
    "epoch_train_samples = int(floor(len(train_samples) / batch_size))\n",
    "epoch_test_samples = int(floor(len(test_samples) / batch_size))\n",
    "\n",
    "print(\"Steps per epoch (train): {}\".format(epoch_train_samples))\n",
    "print(\"Steps per epoch (test): {}\".format(epoch_test_samples))"
   ]
  },
  {
   "cell_type": "markdown",
   "metadata": {},
   "source": [
    "### Training"
   ]
  },
  {
   "cell_type": "markdown",
   "metadata": {},
   "source": [
    "*Define image data generators and create noise on training set.*"
   ]
  },
  {
   "cell_type": "code",
   "execution_count": 10,
   "metadata": {},
   "outputs": [
    {
     "name": "stdout",
     "output_type": "stream",
     "text": [
      "\n",
      "Initializing generators...\n",
      " - Done.\n",
      "\n"
     ]
    }
   ],
   "source": [
    "import data.helpers.generator as g\n",
    "\n",
    "print(\"\\nInitializing generators...\")\n",
    "\n",
    "# compile and train the model using the generator function\n",
    "train_generator = g.generator(training_path, config.labels, batch_size = batch_size, noise = noise)\n",
    "validation_generator = g.generator(test_path, config.labels, batch_size = batch_size, noise = 0)\n",
    "\n",
    "print(\" - Done.\\n\")"
   ]
  },
  {
   "cell_type": "markdown",
   "metadata": {},
   "source": [
    "*Define callbacks for use during training.*"
   ]
  },
  {
   "cell_type": "code",
   "execution_count": 11,
   "metadata": {
    "collapsed": true
   },
   "outputs": [],
   "source": [
    "### Train ###\n",
    "from keras.callbacks import CSVLogger, EarlyStopping, ModelCheckpoint\n",
    "\n",
    "# setup callbacks, save every checkpoint, check for overfitting and reduce learning rate as required\n",
    "callbacks = [\n",
    "    CSVLogger(model_path + \"/training-loss.csv\", separator=',', append = True),\n",
    "    #EarlyStopping(monitor='val_loss', min_delta = 0.0001, patience = 7),\n",
    "    ModelCheckpoint(filepath = model_path + config.checkpoint_pattern.replace(\"*\",\"{epoch:02d}-{val_loss:.2f}\"), monitor='val_loss', save_best_only=False, save_weights_only=True, verbose=0),\n",
    "]"
   ]
  },
  {
   "cell_type": "markdown",
   "metadata": {},
   "source": [
    "#### Learning"
   ]
  },
  {
   "cell_type": "code",
   "execution_count": 12,
   "metadata": {
    "scrolled": true
   },
   "outputs": [
    {
     "name": "stdout",
     "output_type": "stream",
     "text": [
      "\n",
      "Training...\n",
      "Epoch 1/40\n",
      "26/26 [==============================] - 100s - loss: 1.5632 - categorical_accuracy: 0.2873 - top_k_categorical_accuracy: 1.0000 - val_loss: 1.7402 - val_categorical_accuracy: 0.1313 - val_top_k_categorical_accuracy: 1.0000\n",
      "Epoch 2/40\n",
      "26/26 [==============================] - 92s - loss: 1.4959 - categorical_accuracy: 0.3277 - top_k_categorical_accuracy: 1.0000 - val_loss: 1.5514 - val_categorical_accuracy: 0.2303 - val_top_k_categorical_accuracy: 1.0000\n",
      "Epoch 3/40\n",
      "26/26 [==============================] - 94s - loss: 1.4036 - categorical_accuracy: 0.3873 - top_k_categorical_accuracy: 1.0000 - val_loss: 1.5010 - val_categorical_accuracy: 0.2334 - val_top_k_categorical_accuracy: 1.0000\n",
      "Epoch 4/40\n",
      "26/26 [==============================] - 97s - loss: 1.3207 - categorical_accuracy: 0.4726 - top_k_categorical_accuracy: 1.0000 - val_loss: 1.5369 - val_categorical_accuracy: 0.3785 - val_top_k_categorical_accuracy: 1.0000\n",
      "Epoch 5/40\n",
      "26/26 [==============================] - 95s - loss: 1.2235 - categorical_accuracy: 0.5262 - top_k_categorical_accuracy: 1.0000 - val_loss: 1.5152 - val_categorical_accuracy: 0.3754 - val_top_k_categorical_accuracy: 1.0000\n",
      "Epoch 6/40\n",
      "26/26 [==============================] - 90s - loss: 1.1442 - categorical_accuracy: 0.5574 - top_k_categorical_accuracy: 1.0000 - val_loss: 1.2139 - val_categorical_accuracy: 0.4732 - val_top_k_categorical_accuracy: 1.0000\n",
      "Epoch 7/40\n",
      "26/26 [==============================] - 93s - loss: 1.0085 - categorical_accuracy: 0.6037 - top_k_categorical_accuracy: 1.0000 - val_loss: 1.2938 - val_categorical_accuracy: 0.4038 - val_top_k_categorical_accuracy: 1.0000\n",
      "Epoch 8/40\n",
      "26/26 [==============================] - 98s - loss: 1.0331 - categorical_accuracy: 0.5821 - top_k_categorical_accuracy: 1.0000 - val_loss: 1.2107 - val_categorical_accuracy: 0.4669 - val_top_k_categorical_accuracy: 1.0000\n",
      "Epoch 9/40\n",
      "26/26 [==============================] - 93s - loss: 0.9181 - categorical_accuracy: 0.6452 - top_k_categorical_accuracy: 1.0000 - val_loss: 1.0370 - val_categorical_accuracy: 0.5363 - val_top_k_categorical_accuracy: 1.0000\n",
      "Epoch 10/40\n",
      "26/26 [==============================] - 93s - loss: 0.8907 - categorical_accuracy: 0.6416 - top_k_categorical_accuracy: 1.0000 - val_loss: 1.0965 - val_categorical_accuracy: 0.5552 - val_top_k_categorical_accuracy: 1.0000\n",
      "Epoch 11/40\n",
      "26/26 [==============================] - 95s - loss: 0.8543 - categorical_accuracy: 0.6609 - top_k_categorical_accuracy: 1.0000 - val_loss: 1.0888 - val_categorical_accuracy: 0.5394 - val_top_k_categorical_accuracy: 1.0000\n",
      "Epoch 12/40\n",
      "26/26 [==============================] - 94s - loss: 0.8162 - categorical_accuracy: 0.6627 - top_k_categorical_accuracy: 1.0000 - val_loss: 1.0775 - val_categorical_accuracy: 0.5531 - val_top_k_categorical_accuracy: 1.0000\n",
      "Epoch 13/40\n",
      "26/26 [==============================] - 92s - loss: 0.7402 - categorical_accuracy: 0.6807 - top_k_categorical_accuracy: 1.0000 - val_loss: 1.0147 - val_categorical_accuracy: 0.5331 - val_top_k_categorical_accuracy: 1.0000\n",
      "Epoch 14/40\n",
      "26/26 [==============================] - 92s - loss: 0.7056 - categorical_accuracy: 0.6807 - top_k_categorical_accuracy: 1.0000 - val_loss: 1.1194 - val_categorical_accuracy: 0.5457 - val_top_k_categorical_accuracy: 1.0000\n",
      "Epoch 15/40\n",
      "26/26 [==============================] - 97s - loss: 0.7645 - categorical_accuracy: 0.6795 - top_k_categorical_accuracy: 1.0000 - val_loss: 0.8754 - val_categorical_accuracy: 0.6909 - val_top_k_categorical_accuracy: 1.0000\n",
      "Epoch 16/40\n",
      "26/26 [==============================] - 96s - loss: 0.7074 - categorical_accuracy: 0.7024 - top_k_categorical_accuracy: 1.0000 - val_loss: 0.9751 - val_categorical_accuracy: 0.6625 - val_top_k_categorical_accuracy: 1.0000\n",
      "Epoch 17/40\n",
      "26/26 [==============================] - 93s - loss: 0.6493 - categorical_accuracy: 0.7613 - top_k_categorical_accuracy: 1.0000 - val_loss: 0.9305 - val_categorical_accuracy: 0.7161 - val_top_k_categorical_accuracy: 1.0000\n",
      "Epoch 18/40\n",
      "26/26 [==============================] - 96s - loss: 0.6454 - categorical_accuracy: 0.7577 - top_k_categorical_accuracy: 1.0000 - val_loss: 0.9652 - val_categorical_accuracy: 0.6782 - val_top_k_categorical_accuracy: 1.0000\n",
      "Epoch 19/40\n",
      "26/26 [==============================] - 100s - loss: 0.6071 - categorical_accuracy: 0.7414 - top_k_categorical_accuracy: 1.0000 - val_loss: 0.8809 - val_categorical_accuracy: 0.7161 - val_top_k_categorical_accuracy: 1.0000\n",
      "Epoch 20/40\n",
      "26/26 [==============================] - 96s - loss: 0.5645 - categorical_accuracy: 0.7715 - top_k_categorical_accuracy: 1.0000 - val_loss: 1.0214 - val_categorical_accuracy: 0.7350 - val_top_k_categorical_accuracy: 1.0000\n",
      "Epoch 21/40\n",
      "26/26 [==============================] - 95s - loss: 0.5896 - categorical_accuracy: 0.7468 - top_k_categorical_accuracy: 1.0000 - val_loss: 0.8736 - val_categorical_accuracy: 0.7192 - val_top_k_categorical_accuracy: 1.0000\n",
      "Epoch 22/40\n",
      "26/26 [==============================] - 97s - loss: 0.5958 - categorical_accuracy: 0.7420 - top_k_categorical_accuracy: 1.0000 - val_loss: 0.7850 - val_categorical_accuracy: 0.7192 - val_top_k_categorical_accuracy: 1.0000\n",
      "Epoch 23/40\n",
      "26/26 [==============================] - 103s - loss: 0.5892 - categorical_accuracy: 0.7571 - top_k_categorical_accuracy: 1.0000 - val_loss: 0.7998 - val_categorical_accuracy: 0.7406 - val_top_k_categorical_accuracy: 1.0000\n",
      "Epoch 24/40\n",
      "26/26 [==============================] - 92s - loss: 0.5246 - categorical_accuracy: 0.7811 - top_k_categorical_accuracy: 1.0000 - val_loss: 1.1198 - val_categorical_accuracy: 0.6909 - val_top_k_categorical_accuracy: 1.0000\n",
      "Epoch 25/40\n",
      "26/26 [==============================] - 98s - loss: 0.5579 - categorical_accuracy: 0.7535 - top_k_categorical_accuracy: 1.0000 - val_loss: 0.8007 - val_categorical_accuracy: 0.7287 - val_top_k_categorical_accuracy: 1.0000\n",
      "Epoch 26/40\n",
      "26/26 [==============================] - 98s - loss: 0.5666 - categorical_accuracy: 0.7763 - top_k_categorical_accuracy: 1.0000 - val_loss: 0.9619 - val_categorical_accuracy: 0.7413 - val_top_k_categorical_accuracy: 1.0000\n",
      "Epoch 27/40\n",
      "26/26 [==============================] - 94s - loss: 0.5203 - categorical_accuracy: 0.7643 - top_k_categorical_accuracy: 1.0000 - val_loss: 0.8741 - val_categorical_accuracy: 0.7634 - val_top_k_categorical_accuracy: 1.0000\n",
      "Epoch 28/40\n",
      "26/26 [==============================] - 96s - loss: 0.5468 - categorical_accuracy: 0.7788 - top_k_categorical_accuracy: 1.0000 - val_loss: 0.7284 - val_categorical_accuracy: 0.7634 - val_top_k_categorical_accuracy: 1.0000\n",
      "Epoch 29/40\n",
      "26/26 [==============================] - 96s - loss: 0.4938 - categorical_accuracy: 0.8004 - top_k_categorical_accuracy: 1.0000 - val_loss: 0.8149 - val_categorical_accuracy: 0.7855 - val_top_k_categorical_accuracy: 1.0000\n",
      "Epoch 30/40\n",
      "26/26 [==============================] - 99s - loss: 0.5978 - categorical_accuracy: 0.7619 - top_k_categorical_accuracy: 1.0000 - val_loss: 0.9517 - val_categorical_accuracy: 0.7382 - val_top_k_categorical_accuracy: 1.0000\n",
      "Epoch 31/40\n",
      "26/26 [==============================] - 102s - loss: 0.5619 - categorical_accuracy: 0.7697 - top_k_categorical_accuracy: 1.0000 - val_loss: 0.9224 - val_categorical_accuracy: 0.7697 - val_top_k_categorical_accuracy: 1.0000\n",
      "Epoch 32/40\n",
      "26/26 [==============================] - 102s - loss: 0.5479 - categorical_accuracy: 0.7679 - top_k_categorical_accuracy: 1.0000 - val_loss: 0.8785 - val_categorical_accuracy: 0.7571 - val_top_k_categorical_accuracy: 1.0000\n",
      "Epoch 33/40\n",
      "26/26 [==============================] - 101s - loss: 0.5044 - categorical_accuracy: 0.7781 - top_k_categorical_accuracy: 1.0000 - val_loss: 0.9229 - val_categorical_accuracy: 0.7603 - val_top_k_categorical_accuracy: 1.0000\n",
      "Epoch 34/40\n",
      "26/26 [==============================] - 93s - loss: 0.4805 - categorical_accuracy: 0.7961 - top_k_categorical_accuracy: 1.0000 - val_loss: 0.8500 - val_categorical_accuracy: 0.7875 - val_top_k_categorical_accuracy: 1.0000\n",
      "Epoch 35/40\n"
     ]
    },
    {
     "name": "stdout",
     "output_type": "stream",
     "text": [
      "26/26 [==============================] - 100s - loss: 0.5282 - categorical_accuracy: 0.7751 - top_k_categorical_accuracy: 1.0000 - val_loss: 0.9246 - val_categorical_accuracy: 0.7950 - val_top_k_categorical_accuracy: 1.0000\n",
      "Epoch 36/40\n",
      "26/26 [==============================] - 95s - loss: 0.4615 - categorical_accuracy: 0.7865 - top_k_categorical_accuracy: 1.0000 - val_loss: 0.7005 - val_categorical_accuracy: 0.7886 - val_top_k_categorical_accuracy: 1.0000\n",
      "Epoch 37/40\n",
      "26/26 [==============================] - 95s - loss: 0.5047 - categorical_accuracy: 0.8034 - top_k_categorical_accuracy: 1.0000 - val_loss: 0.7611 - val_categorical_accuracy: 0.7413 - val_top_k_categorical_accuracy: 1.0000\n",
      "Epoch 38/40\n",
      "26/26 [==============================] - 92s - loss: 0.5402 - categorical_accuracy: 0.7709 - top_k_categorical_accuracy: 1.0000 - val_loss: 1.0089 - val_categorical_accuracy: 0.7256 - val_top_k_categorical_accuracy: 1.0000\n",
      "Epoch 39/40\n",
      "26/26 [==============================] - 97s - loss: 0.5493 - categorical_accuracy: 0.7697 - top_k_categorical_accuracy: 1.0000 - val_loss: 0.9228 - val_categorical_accuracy: 0.8139 - val_top_k_categorical_accuracy: 1.0000\n",
      "Epoch 40/40\n",
      "26/26 [==============================] - 97s - loss: 0.5265 - categorical_accuracy: 0.7691 - top_k_categorical_accuracy: 1.0000 - val_loss: 0.7033 - val_categorical_accuracy: 0.7918 - val_top_k_categorical_accuracy: 1.0000\n"
     ]
    }
   ],
   "source": [
    "print(\"\\nTraining...\")\n",
    "\n",
    "epoch = 0\n",
    "# Train the model using the supplied generator\n",
    "history = model.fit_generator(train_generator, steps_per_epoch = epoch_train_samples, \n",
    "                              validation_data = validation_generator, validation_steps = epoch_test_samples,\n",
    "                              epochs = max_epochs, callbacks = callbacks, initial_epoch = epoch)"
   ]
  },
  {
   "cell_type": "code",
   "execution_count": 13,
   "metadata": {},
   "outputs": [
    {
     "name": "stdout",
     "output_type": "stream",
     "text": [
      "dict_keys(['val_categorical_accuracy', 'val_loss', 'val_top_k_categorical_accuracy', 'top_k_categorical_accuracy', 'loss', 'categorical_accuracy'])\n"
     ]
    }
   ],
   "source": [
    "print(history.history.keys())"
   ]
  },
  {
   "cell_type": "code",
   "execution_count": 14,
   "metadata": {},
   "outputs": [
    {
     "data": {
      "text/plain": [
       "<matplotlib.legend.Legend at 0x244b9d93320>"
      ]
     },
     "execution_count": 14,
     "metadata": {},
     "output_type": "execute_result"
    },
    {
     "data": {
      "image/png": "[encoded data removed]",
      "text/plain": [
       "<matplotlib.figure.Figure at 0x244a5fa13c8>"
      ]
     },
     "metadata": {},
     "output_type": "display_data"
    }
   ],
   "source": [
    "# summarize history for accuracy\n",
    "plt.plot(history.history['categorical_accuracy'])\n",
    "plt.plot(history.history['val_categorical_accuracy'])\n",
    "plt.title('model accuracy')\n",
    "plt.ylabel('accuracy')\n",
    "plt.xlabel('epoch')\n",
    "plt.legend(['train', 'test'], loc='upper left')\n"
   ]
  },
  {
   "cell_type": "code",
   "execution_count": 15,
   "metadata": {},
   "outputs": [
    {
     "data": {
      "image/png": "[encoded data removed]",
      "text/plain": [
       "<matplotlib.figure.Figure at 0x244c40d06a0>"
      ]
     },
     "metadata": {},
     "output_type": "display_data"
    }
   ],
   "source": [
    "# summarize history for loss\n",
    "plt.plot(history.history['loss'])\n",
    "plt.plot(history.history['val_loss'])\n",
    "plt.title('model loss')\n",
    "plt.ylabel('loss')\n",
    "plt.xlabel('epoch')\n",
    "plt.legend(['train', 'test'], loc='upper left')\n",
    "plt.show()"
   ]
  },
  {
   "cell_type": "code",
   "execution_count": 16,
   "metadata": {
    "collapsed": true
   },
   "outputs": [],
   "source": [
    "valid_path = \"./data2/valid/images\""
   ]
  },
  {
   "cell_type": "code",
   "execution_count": null,
   "metadata": {},
   "outputs": [],
   "source": [
    "# load weights file from best run\n",
    "#model.load_weights(model_path + \"checkpoint-26-0.61.h5\")"
   ]
  },
  {
   "cell_type": "code",
   "execution_count": null,
   "metadata": {},
   "outputs": [],
   "source": [
    "from mpl_toolkits.axes_grid1 import ImageGrid\n",
    "import matplotlib.gridspec as gridspec\n",
    "import matplotlib.image as mpimg\n",
    "\n",
    "images = []\n",
    "labels = []\n",
    "labelnames = []\n",
    "\n",
    "for dir in os.listdir(valid_path):\n",
    "    sub_path = os.path.join(valid_path, dir)\n",
    "    if (os.path.isdir(sub_path) and dir in config.labels):\n",
    "        for img_name in os.listdir(sub_path):\n",
    "            img_path = os.path.join(sub_path, img_name)\n",
    "            images.append(img_path)\n",
    "            labels.append(config.labels[dir])\n",
    "            labelnames.append(dir)\n",
    "\n",
    "num_rows = 6\n",
    "num_cols = 4\n",
    "\n",
    "fig = plt.figure(figsize=(18, 16))  # width, height in inches\n",
    "\n",
    "k = 1\n",
    "\n",
    "for i in range(len(labels)):\n",
    "    image = mpimg.imread(images[i])\n",
    "    label = labels[i]\n",
    "    name = labelnames[i]\n",
    "    \n",
    "    image = np.asarray(image)\n",
    "    \n",
    "    pred = model.predict(image[None, :, :, 0:3], batch_size=1)[0]\n",
    "    \n",
    "    pred_idx = np.argmax(pred)\n",
    "    pred_label = list(config.labels)[pred_idx]\n",
    "    pred_score = np.round(pred[pred_idx], 6)\n",
    "    \n",
    "    sub = fig.add_subplot(num_rows, num_cols, k)\n",
    "    sub.set_title(\"{} / {}\\n{}\".format(name, pred_label, str(pred_score)), fontsize=9)\n",
    "    sub.imshow(image)\n",
    "    #sub.axis(\"off\")\n",
    "    \n",
    "    color = \"red\"\n",
    "    if (pred_label == label):\n",
    "        color = \"lime\"\n",
    "            \n",
    "    #sub.set_label(str(pred_score))#, fontsize=8, color=color)\n",
    "    sub.axis('off')\n",
    "    \n",
    "    k += 1\n",
    "\n",
    "fig.suptitle(\"Traffic Lights\",fontsize=12)\n"
   ]
  },
  {
   "cell_type": "code",
   "execution_count": null,
   "metadata": {
    "collapsed": true
   },
   "outputs": [],
   "source": [
    "# Write out model params to file for use in project"
   ]
  }
 ],
 "metadata": {
  "anaconda-cloud": {},
  "kernelspec": {
   "display_name": "Python [default]",
   "language": "python",
   "name": "python3"
  },
  "language_info": {
   "codemirror_mode": {
    "name": "ipython",
    "version": 3
   },
   "file_extension": ".py",
   "mimetype": "text/x-python",
   "name": "python",
   "nbconvert_exporter": "python",
   "pygments_lexer": "ipython3",
   "version": "3.5.4"
  }
 },
 "nbformat": 4,
 "nbformat_minor": 2
}

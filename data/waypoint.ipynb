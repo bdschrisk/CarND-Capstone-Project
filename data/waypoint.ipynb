{
 "cells": [
  {
   "cell_type": "code",
   "execution_count": 1,
   "metadata": {},
   "outputs": [],
   "source": [
    "import pandas as pd\n",
    "import math\n",
    "import numpy as np\n",
    "import matplotlib.pyplot as plt\n",
    "%matplotlib inline"
   ]
  },
  {
   "cell_type": "code",
   "execution_count": 2,
   "metadata": {
    "collapsed": true
   },
   "outputs": [],
   "source": [
    "# This file isn't used.\n",
    "with open ('./sim_waypoints.csv') as f:\n",
    "    sim_way_df = pd.read_csv(f, header=None, names=['x','y','z','yaw'], lineterminator='\\n')"
   ]
  },
  {
   "cell_type": "code",
   "execution_count": 3,
   "metadata": {},
   "outputs": [
    {
     "name": "stdout",
     "output_type": "stream",
     "text": [
      "---count---\n",
      "x      11011\n",
      "y      11011\n",
      "z      11011\n",
      "yaw    11010\n",
      "dtype: int64\n",
      "---min---\n",
      "x       155.798\n",
      "y      1128.670\n",
      "z         0.000\n",
      "yaw      50.000\n",
      "dtype: float64\n",
      "---max---\n",
      "x      2339.47\n",
      "y      3005.71\n",
      "z         0.00\n",
      "yaw      50.00\n",
      "dtype: float64\n",
      "---sample---\n",
      "             x        y    z   yaw\n",
      "0      909.480  1128.67  0.0   NaN\n",
      "1      909.486  1128.67  0.0  50.0\n",
      "2      909.492  1128.67  0.0  50.0\n",
      "3      909.500  1128.67  0.0  50.0\n",
      "4      909.522  1128.67  0.0  50.0\n",
      "5      909.570  1128.67  0.0  50.0\n",
      "6      909.636  1128.67  0.0  50.0\n",
      "7      909.720  1128.67  0.0  50.0\n",
      "8      909.860  1128.67  0.0  50.0\n",
      "9      909.986  1128.67  0.0  50.0\n",
      "10     910.130  1128.67  0.0  50.0\n",
      "11     910.292  1128.67  0.0  50.0\n",
      "12     910.472  1128.67  0.0  50.0\n",
      "13     910.669  1128.67  0.0  50.0\n",
      "14     910.885  1128.67  0.0  50.0\n",
      "15     911.201  1128.67  0.0  50.0\n",
      "16     911.459  1128.67  0.0  50.0\n",
      "17     911.735  1128.67  0.0  50.0\n",
      "18     912.029  1128.67  0.0  50.0\n",
      "19     912.340  1128.67  0.0  50.0\n",
      "20     912.667  1128.67  0.0  50.0\n",
      "21     913.011  1128.67  0.0  50.0\n",
      "22     913.497  1128.67  0.0  50.0\n",
      "23     913.882  1128.67  0.0  50.0\n",
      "24     914.284  1128.68  0.0  50.0\n",
      "25     914.703  1128.68  0.0  50.0\n",
      "26     915.139  1128.68  0.0  50.0\n",
      "27     915.747  1128.69  0.0  50.0\n",
      "28     916.223  1128.69  0.0  50.0\n",
      "29     916.715  1128.69  0.0  50.0\n",
      "...        ...      ...  ...   ...\n",
      "10981  904.064  1128.77  0.0  50.0\n",
      "10982  905.390  1128.76  0.0  50.0\n",
      "10983  906.716  1128.76  0.0  50.0\n",
      "10984  908.041  1128.75  0.0  50.0\n",
      "10985  909.366  1128.75  0.0  50.0\n",
      "10986  910.691  1128.75  0.0  50.0\n",
      "10987  912.016  1128.75  0.0  50.0\n",
      "10988  913.339  1128.75  0.0  50.0\n",
      "10989  914.667  1128.76  0.0  50.0\n",
      "10990  915.993  1128.77  0.0  50.0\n",
      "10991  917.319  1128.78  0.0  50.0\n",
      "10992  918.643  1128.80  0.0  50.0\n",
      "10993  919.966  1128.82  0.0  50.0\n",
      "10994  921.287  1128.85  0.0  50.0\n",
      "10995  922.612  1128.89  0.0  50.0\n",
      "10996  923.936  1128.93  0.0  50.0\n",
      "10997  924.817  1128.96  0.0  50.0\n",
      "10998  926.583  1129.03  0.0  50.0\n",
      "10999  927.905  1129.08  0.0  50.0\n",
      "11000  928.789  1129.12  0.0  50.0\n",
      "11001  930.112  1129.18  0.0  50.0\n",
      "11002  931.439  1129.24  0.0  50.0\n",
      "11003  932.761  1129.31  0.0  50.0\n",
      "11004  934.086  1129.38  0.0  50.0\n",
      "11005  935.409  1129.45  0.0  50.0\n",
      "11006  936.728  1129.53  0.0  50.0\n",
      "11007  938.049  1129.61  0.0  50.0\n",
      "11008  939.369  1129.70  0.0  50.0\n",
      "11009  940.691  1129.79  0.0  50.0\n",
      "11010  941.573  1129.85  0.0  50.0\n",
      "\n",
      "[11011 rows x 4 columns]\n"
     ]
    }
   ],
   "source": [
    "print(\"---count---\")\n",
    "print(sim_way_df.count())\n",
    "print(\"---min---\")\n",
    "print(sim_way_df.min())\n",
    "print(\"---max---\")\n",
    "print(sim_way_df.max())\n",
    "print(\"---sample---\")\n",
    "print(sim_way_df)"
   ]
  },
  {
   "cell_type": "code",
   "execution_count": 4,
   "metadata": {},
   "outputs": [
    {
     "data": {
      "text/plain": [
       "[<matplotlib.lines.Line2D at 0x7fb11024f6a0>]"
      ]
     },
     "execution_count": 4,
     "metadata": {},
     "output_type": "execute_result"
    },
    {
     "data": {
      "image/png": "[encoded data removed]",
      "text/plain": [
       "<matplotlib.figure.Figure at 0x7fb0e1c26fd0>"
      ]
     },
     "metadata": {},
     "output_type": "display_data"
    }
   ],
   "source": [
    "plt.figure()\n",
    "plt.plot(sim_way_df.x,sim_way_df.y,linewidth=.5,color='m')"
   ]
  },
  {
   "cell_type": "code",
   "execution_count": 5,
   "metadata": {
    "collapsed": true
   },
   "outputs": [],
   "source": [
    "# This file is used by styx.lanch\n",
    "#./waypoint_loader/launch/waypoint_loader.launch:4:        <param name=\"path\" value=\"$(find styx)../../../data/wp_yaw_const.csv\" />\n",
    "with open ('./wp_yaw_const.csv') as f:\n",
    "    wp_yaw_const_df = pd.read_csv(f, header=None, names=['x','y','z','yaw'], lineterminator='\\n')"
   ]
  },
  {
   "cell_type": "code",
   "execution_count": 6,
   "metadata": {},
   "outputs": [
    {
     "name": "stdout",
     "output_type": "stream",
     "text": [
      "---count---\n",
      "x      10902\n",
      "y      10902\n",
      "z      10902\n",
      "yaw    10902\n",
      "dtype: int64\n",
      "---min---\n",
      "x       155.794\n",
      "y      1128.670\n",
      "z         0.000\n",
      "yaw       0.000\n",
      "dtype: float64\n",
      "---max---\n",
      "x      2339.440000\n",
      "y      3005.740000\n",
      "z         0.000000\n",
      "yaw       6.282086\n",
      "dtype: float64\n",
      "---sample---\n",
      "             x        y  z       yaw\n",
      "0      909.480  1128.67  0  0.000000\n",
      "1      909.486  1128.67  0  0.000000\n",
      "2      909.500  1128.67  0  0.000000\n",
      "3      909.510  1128.67  0  0.000000\n",
      "4      909.522  1128.67  0  0.000000\n",
      "5      909.612  1128.67  0  0.000000\n",
      "6      909.690  1128.67  0  0.000000\n",
      "7      909.786  1128.67  0  0.000000\n",
      "8      909.900  1128.67  0  0.000000\n",
      "9      909.986  1128.67  0  0.000000\n",
      "10     910.182  1128.67  0  0.000000\n",
      "11     910.350  1128.67  0  0.000000\n",
      "12     910.472  1128.67  0  0.000000\n",
      "13     910.740  1128.67  0  0.006883\n",
      "14     910.961  1128.67  0  0.000000\n",
      "15     911.201  1128.67  0  0.005893\n",
      "16     911.459  1128.67  0  0.005497\n",
      "17     911.641  1128.67  0  0.000000\n",
      "18     912.131  1128.67  0  0.000000\n",
      "19     912.340  1128.67  0  0.000000\n",
      "20     912.781  1128.67  0  0.000000\n",
      "21     913.131  1128.67  0  0.004079\n",
      "22     913.375  1128.68  0  0.007906\n",
      "23     913.885  1128.68  0  0.007441\n",
      "24     914.288  1128.68  0  0.007574\n",
      "25     914.707  1128.69  0  0.006849\n",
      "26     915.144  1128.69  0  0.010280\n",
      "27     915.445  1128.69  0  0.013238\n",
      "28     916.231  1128.70  0  0.012473\n",
      "29     916.724  1128.71  0  0.017878\n",
      "...        ...      ... ..       ...\n",
      "10872  860.867  1128.83  0  0.000000\n",
      "10873  861.307  1128.83  0  0.000000\n",
      "10874  863.079  1128.83  0  0.000000\n",
      "10875  863.963  1128.83  0  0.000000\n",
      "10876  864.846  1128.83  0  0.000000\n",
      "10877  866.613  1128.83  0  0.000000\n",
      "10878  867.497  1128.83  0  0.000000\n",
      "10879  868.381  1128.83  0  0.000000\n",
      "10880  869.708  1128.83  0  0.000000\n",
      "10881  871.036  1128.83  0  0.000000\n",
      "10882  871.919  1128.83  0  0.000000\n",
      "10883  873.248  1128.83  0  0.000000\n",
      "10884  874.573  1128.83  0  0.000000\n",
      "10885  875.898  1128.83  0  0.000000\n",
      "10886  877.226  1128.83  0  0.000000\n",
      "10887  878.110  1128.83  0  0.000000\n",
      "10888  878.993  1128.83  0  0.000000\n",
      "10889  880.760  1128.83  0  0.000000\n",
      "10890  882.086  1128.83  0  0.000000\n",
      "10891  883.413  1128.83  0  0.000000\n",
      "10892  884.738  1128.83  0  0.000000\n",
      "10893  885.622  1128.83  0  0.000000\n",
      "10894  887.390  1128.83  0  0.000000\n",
      "10895  888.275  1128.83  0  0.000000\n",
      "10896  889.600  1128.83  0  0.000000\n",
      "10897  890.924  1128.83  0  0.000000\n",
      "10898  892.252  1128.83  0  0.000000\n",
      "10899  893.577  1128.83  0  6.280829\n",
      "10900  894.904  1128.82  0  6.280969\n",
      "10901  896.233  1128.82  0  6.280829\n",
      "\n",
      "[10902 rows x 4 columns]\n"
     ]
    }
   ],
   "source": [
    "print(\"---count---\")\n",
    "print(wp_yaw_const_df.count())\n",
    "print(\"---min---\")\n",
    "print(wp_yaw_const_df.min())\n",
    "print(\"---max---\")\n",
    "print(wp_yaw_const_df.max())\n",
    "print(\"---sample---\")\n",
    "print(wp_yaw_const_df)"
   ]
  },
  {
   "cell_type": "code",
   "execution_count": 9,
   "metadata": {},
   "outputs": [
    {
     "name": "stdout",
     "output_type": "stream",
     "text": [
      "99.98760835785522 -1.5742219907501824\n"
     ]
    }
   ],
   "source": [
    "index = 10800\n",
    "x = wp_yaw_const_df.iloc[index].x\n",
    "y = wp_yaw_const_df.iloc[index].y\n",
    "psi = wp_yaw_const_df.iloc[index].yaw\n",
    "\n",
    "dx=math.cos(psi)*100\n",
    "dy=math.sin(psi)*100\n",
    "print(dx,dy)"
   ]
  },
  {
   "cell_type": "code",
   "execution_count": 10,
   "metadata": {},
   "outputs": [
    {
     "data": {
      "text/plain": [
       "<matplotlib.patches.FancyArrow at 0x7fb0e1be40b8>"
      ]
     },
     "execution_count": 10,
     "metadata": {},
     "output_type": "execute_result"
    },
    {
     "data": {
      "image/png": "[encoded data removed]",
      "text/plain": [
       "<matplotlib.figure.Figure at 0x7fb0df4cc7f0>"
      ]
     },
     "metadata": {},
     "output_type": "display_data"
    }
   ],
   "source": [
    "plt.figure()\n",
    "plt.plot(wp_yaw_const_df.x,wp_yaw_const_df.y,linewidth=.5,color='m')\n",
    "plt.arrow(x,y,dx,dy,fc=\"k\", ec=\"k\",linewidth=2,head_width=50, head_length=50)"
   ]
  },
  {
   "cell_type": "code",
   "execution_count": 11,
   "metadata": {
    "collapsed": true
   },
   "outputs": [],
   "source": [
    "# This file used by styx.launch\n",
    "#./waypoint_loader/launch/waypoint_loader_site.launch:4:        <param name=\"path\" value=\"$(find styx)../../../data/churchlot_with_cars.csv\" />\n",
    "with open ('./churchlot_with_cars.csv') as f:\n",
    "    churchlot_df = pd.read_csv(f, header=None, names=['x','y','z','yaw', 'unknown'], lineterminator='\\n')"
   ]
  },
  {
   "cell_type": "code",
   "execution_count": 12,
   "metadata": {},
   "outputs": [
    {
     "name": "stdout",
     "output_type": "stream",
     "text": [
      "---count---\n",
      "x          61\n",
      "y          61\n",
      "z          61\n",
      "yaw        61\n",
      "unknown    61\n",
      "dtype: int64\n",
      "---min---\n",
      "x          -0.1674\n",
      "y           1.8863\n",
      "z           0.2927\n",
      "yaw        -3.0689\n",
      "unknown    12.0000\n",
      "dtype: float64\n",
      "---max---\n",
      "x          25.0165\n",
      "y          16.7253\n",
      "z           1.9044\n",
      "yaw         3.1397\n",
      "unknown    12.0000\n",
      "dtype: float64\n",
      "---max---\n",
      "          x        y       z     yaw  unknown\n",
      "0   10.4062  15.5810  0.7750 -2.7419       12\n",
      "1    9.3323  15.1076  0.7265 -2.7761       12\n",
      "2    8.2133  14.6523  0.6463 -2.7875       12\n",
      "3    7.1124  14.2238  0.5837 -2.7816       12\n",
      "4    6.1445  13.8196  0.5186 -2.7624       12\n",
      "5    5.1563  13.3232  0.4582 -2.7233       12\n",
      "6    4.0306  12.8497  0.4001 -2.6551       12\n",
      "7    2.9963  12.3614  0.3606 -2.5595       12\n",
      "8    2.1433  11.6514  0.3240 -2.4223       12\n",
      "9    1.3549  10.8159  0.3129 -2.2498       12\n",
      "10   0.6673   9.8075  0.2927 -2.0473       12\n",
      "11   0.0982   8.8679  0.2952 -1.8290       12\n",
      "12  -0.1674   7.7939  0.2971 -1.5273       12\n",
      "13  -0.0160   6.7165  0.3308 -1.2993       12\n",
      "14   0.4703   5.6266  0.3591 -1.0645       12\n",
      "15   1.0478   4.6374  0.4400 -0.8443       12\n",
      "16   1.7823   3.6620  0.5316 -0.6430       12\n",
      "17   2.8056   2.9294  0.6180 -0.4675       12\n",
      "18   3.7520   2.5905  0.6390 -0.3436       12\n",
      "19   4.8491   2.3299  0.6923 -0.2324       12\n",
      "20   5.9542   2.1258  0.7686 -0.1403       12\n",
      "21   7.1193   1.9555  0.8450 -0.0720       12\n",
      "22   8.3290   1.8898  0.8918 -0.0299       12\n",
      "23   9.5629   1.8863  0.9811 -0.0096       12\n",
      "24  10.8273   1.9032  1.0635  0.0055       12\n",
      "25  12.0401   1.9231  1.1340  0.0154       12\n",
      "26  13.2311   1.9756  1.2247  0.0259       12\n",
      "27  14.4540   2.0982  1.2894  0.0491       12\n",
      "28  15.6670   2.1955  1.3580  0.0874       12\n",
      "29  16.8044   2.3517  1.4531  0.1420       12\n",
      "..      ...      ...     ...     ...      ...\n",
      "31  19.1917   2.8108  1.5556  0.2976       12\n",
      "32  20.2247   3.1073  1.6655  0.4049       12\n",
      "33  21.1457   3.5801  1.7298  0.5225       12\n",
      "34  21.9855   4.1788  1.7631  0.6443       12\n",
      "35  22.7811   4.8316  1.8034  0.7734       12\n",
      "36  23.5077   5.6220  1.8373  0.9148       12\n",
      "37  24.1083   6.4314  1.8431  1.0537       12\n",
      "38  24.7628   7.5022  1.8801  1.2454       12\n",
      "39  25.0165   8.5624  1.9044  1.4390       12\n",
      "40  24.9825   9.7477  1.8986  1.6241       12\n",
      "41  24.8426  10.9168  1.8811  1.8010       12\n",
      "42  24.5885  12.1600  1.8511  1.9861       12\n",
      "43  24.1027  13.3017  1.8157  2.1751       12\n",
      "44  23.3313  14.2742  1.7346  2.3716       12\n",
      "45  22.4417  14.9339  1.6529  2.5140       12\n",
      "46  21.5490  15.5242  1.5707  2.6533       12\n",
      "47  20.4978  16.0282  1.4939  2.7880       12\n",
      "48  19.4593  16.3515  1.4019  2.9136       12\n",
      "49  18.3935  16.6445  1.3187  3.0424       12\n",
      "50  17.3152  16.7253  1.2257  3.1397       12\n",
      "51  16.2105  16.6429  1.1768 -3.0689       12\n",
      "52  15.1095  16.4975  1.0757 -3.0101       12\n",
      "53  14.0054  16.3033  1.0277 -2.9785       12\n",
      "54  12.9916  16.1129  0.9634 -2.9596       12\n",
      "55  11.9502  15.8813  0.8892 -2.9351       12\n",
      "56  10.8016  15.6010  0.8146 -2.9138       12\n",
      "57   9.7822  15.3713  0.7315 -2.8976       12\n",
      "58   8.8213  15.0926  0.6980 -2.8836       12\n",
      "59   7.6275  14.7692  0.6189 -2.8695       12\n",
      "60   6.6734  14.4438  0.5474 -2.8635       12\n",
      "\n",
      "[61 rows x 5 columns]\n"
     ]
    }
   ],
   "source": [
    "print(\"---count---\")\n",
    "print(churchlot_df.count())\n",
    "print(\"---min---\")\n",
    "print(churchlot_df.min())\n",
    "print(\"---max---\")\n",
    "print(churchlot_df.max())\n",
    "print(\"---max---\")\n",
    "print(churchlot_df)\n"
   ]
  },
  {
   "cell_type": "code",
   "execution_count": 14,
   "metadata": {},
   "outputs": [
    {
     "name": "stdout",
     "output_type": "stream",
     "text": [
      "1.9803481774383047 -0.2796803463184084\n"
     ]
    }
   ],
   "source": [
    "index = 20\n",
    "x = churchlot_df.iloc[index].x\n",
    "y = churchlot_df.iloc[index].y\n",
    "psi = churchlot_df.iloc[index].yaw\n",
    "\n",
    "dx=math.cos(psi)*2.0\n",
    "dy=math.sin(psi)*2.0\n",
    "print(dx,dy)"
   ]
  },
  {
   "cell_type": "code",
   "execution_count": 15,
   "metadata": {},
   "outputs": [
    {
     "data": {
      "text/plain": [
       "<matplotlib.patches.FancyArrow at 0x7fb0df3ce5f8>"
      ]
     },
     "execution_count": 15,
     "metadata": {},
     "output_type": "execute_result"
    },
    {
     "data": {
      "image/png": "[encoded data removed]",
      "text/plain": [
       "<matplotlib.figure.Figure at 0x7fb0df33e080>"
      ]
     },
     "metadata": {},
     "output_type": "display_data"
    }
   ],
   "source": [
    "plt.figure()\n",
    "plt.plot(churchlot_df.x,churchlot_df.y,linewidth=.5,color='m')\n",
    "plt.arrow(x,y,dx,dy,fc=\"k\", ec=\"k\",linewidth=2,head_width=0.5, head_length=0.5)"
   ]
  },
  {
   "cell_type": "code",
   "execution_count": null,
   "metadata": {
    "collapsed": true
   },
   "outputs": [],
   "source": []
  }
 ],
 "metadata": {
  "kernelspec": {
   "display_name": "Python 3",
   "language": "python",
   "name": "python3"
  },
  "language_info": {
   "codemirror_mode": {
    "name": "ipython",
    "version": 3
   },
   "file_extension": ".py",
   "mimetype": "text/x-python",
   "name": "python",
   "nbconvert_exporter": "python",
   "pygments_lexer": "ipython3",
   "version": "3.6.1"
  }
 },
 "nbformat": 4,
 "nbformat_minor": 2
}
